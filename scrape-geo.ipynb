{
 "cells": [
  {
   "cell_type": "code",
   "execution_count": 1,
   "metadata": {},
   "outputs": [],
   "source": [
    "auth_token = \"XXX\""
   ]
  },
  {
   "cell_type": "code",
   "execution_count": 2,
   "metadata": {},
   "outputs": [],
   "source": [
    "import requests\n",
    "import pandas as pd\n",
    "\n",
    "def get_search(offset, auth_token):\n",
    "    headers = {\"authorization\": auth_token}\n",
    "    url = (\n",
    "        \"https://discord.com/api/v9/guilds/349436576037732353\"\n",
    "        \"/messages/search\"\n",
    "        \"?author_id=501118574656618496\"\n",
    "        \"&include_nsfw=true\"\n",
    "        f\"&offset={offset}\"\n",
    "    )\n",
    "    return requests.get(url, headers=headers)\n",
    "\n",
    "res = get_search(0, auth_token).json()"
   ]
  },
  {
   "cell_type": "code",
   "execution_count": 4,
   "metadata": {},
   "outputs": [
    {
     "name": "stderr",
     "output_type": "stream",
     "text": [
      "  0%|          | 0/40 [00:00<?, ?it/s]"
     ]
    },
    {
     "name": "stderr",
     "output_type": "stream",
     "text": [
      "100%|██████████| 40/40 [00:37<00:00,  1.06it/s]"
     ]
    },
    {
     "name": "stdout",
     "output_type": "stream",
     "text": [
      "1000\n"
     ]
    },
    {
     "name": "stderr",
     "output_type": "stream",
     "text": [
      "\n"
     ]
    }
   ],
   "source": [
    "from tqdm import tqdm\n",
    "import itertools\n",
    "import time\n",
    "\n",
    "messages = []\n",
    "for i in tqdm(range(40)):\n",
    "    offset = i * 25\n",
    "    search = get_search(offset, auth_token)\n",
    "    messages += list(itertools.chain.from_iterable(search.json()['messages']))\n",
    "    time.sleep(0.5)\n",
    "print(len(messages))"
   ]
  },
  {
   "cell_type": "code",
   "execution_count": 5,
   "metadata": {},
   "outputs": [],
   "source": [
    "df = pd.DataFrame(messages)\n",
    "ts_df = df[[\"timestamp\"]].copy()\n",
    "ts_df[\"timestamp\"] = pd.to_datetime(ts_df[\"timestamp\"])\n",
    "ts_df[\"date\"] = ts_df[\"timestamp\"].dt.date\n",
    "ts_df[\"hour\"] = (ts_df[\"timestamp\"].dt.hour + ts_df[\"timestamp\"].dt.minute / 60).round(2)\n",
    "ts_df.to_csv(\"2023-08-21-geo.csv\", index=False)"
   ]
  },
  {
   "cell_type": "code",
   "execution_count": 8,
   "metadata": {},
   "outputs": [
    {
     "data": {
      "text/html": [
       "<div>\n",
       "<style scoped>\n",
       "    .dataframe tbody tr th:only-of-type {\n",
       "        vertical-align: middle;\n",
       "    }\n",
       "\n",
       "    .dataframe tbody tr th {\n",
       "        vertical-align: top;\n",
       "    }\n",
       "\n",
       "    .dataframe thead th {\n",
       "        text-align: right;\n",
       "    }\n",
       "</style>\n",
       "<table border=\"1\" class=\"dataframe\">\n",
       "  <thead>\n",
       "    <tr style=\"text-align: right;\">\n",
       "      <th></th>\n",
       "      <th>timestamp</th>\n",
       "      <th>date</th>\n",
       "      <th>hour</th>\n",
       "    </tr>\n",
       "  </thead>\n",
       "  <tbody>\n",
       "    <tr>\n",
       "      <th>0</th>\n",
       "      <td>2023-08-22 03:35:35.557000+00:00</td>\n",
       "      <td>2023-08-22</td>\n",
       "      <td>3.58</td>\n",
       "    </tr>\n",
       "    <tr>\n",
       "      <th>1</th>\n",
       "      <td>2023-08-22 03:29:27.394000+00:00</td>\n",
       "      <td>2023-08-22</td>\n",
       "      <td>3.48</td>\n",
       "    </tr>\n",
       "    <tr>\n",
       "      <th>2</th>\n",
       "      <td>2023-08-22 03:29:20.049000+00:00</td>\n",
       "      <td>2023-08-22</td>\n",
       "      <td>3.48</td>\n",
       "    </tr>\n",
       "    <tr>\n",
       "      <th>3</th>\n",
       "      <td>2023-08-22 03:28:43.264000+00:00</td>\n",
       "      <td>2023-08-22</td>\n",
       "      <td>3.47</td>\n",
       "    </tr>\n",
       "    <tr>\n",
       "      <th>4</th>\n",
       "      <td>2023-08-22 03:28:39.544000+00:00</td>\n",
       "      <td>2023-08-22</td>\n",
       "      <td>3.47</td>\n",
       "    </tr>\n",
       "    <tr>\n",
       "      <th>...</th>\n",
       "      <td>...</td>\n",
       "      <td>...</td>\n",
       "      <td>...</td>\n",
       "    </tr>\n",
       "    <tr>\n",
       "      <th>995</th>\n",
       "      <td>2023-08-10 05:06:01.702000+00:00</td>\n",
       "      <td>2023-08-10</td>\n",
       "      <td>5.10</td>\n",
       "    </tr>\n",
       "    <tr>\n",
       "      <th>996</th>\n",
       "      <td>2023-08-10 05:05:43.019000+00:00</td>\n",
       "      <td>2023-08-10</td>\n",
       "      <td>5.08</td>\n",
       "    </tr>\n",
       "    <tr>\n",
       "      <th>997</th>\n",
       "      <td>2023-08-10 05:05:39.109000+00:00</td>\n",
       "      <td>2023-08-10</td>\n",
       "      <td>5.08</td>\n",
       "    </tr>\n",
       "    <tr>\n",
       "      <th>998</th>\n",
       "      <td>2023-08-10 05:05:36.577000+00:00</td>\n",
       "      <td>2023-08-10</td>\n",
       "      <td>5.08</td>\n",
       "    </tr>\n",
       "    <tr>\n",
       "      <th>999</th>\n",
       "      <td>2023-08-10 05:05:17.988000+00:00</td>\n",
       "      <td>2023-08-10</td>\n",
       "      <td>5.08</td>\n",
       "    </tr>\n",
       "  </tbody>\n",
       "</table>\n",
       "<p>1000 rows × 3 columns</p>\n",
       "</div>"
      ],
      "text/plain": [
       "                           timestamp        date  hour\n",
       "0   2023-08-22 03:35:35.557000+00:00  2023-08-22  3.58\n",
       "1   2023-08-22 03:29:27.394000+00:00  2023-08-22  3.48\n",
       "2   2023-08-22 03:29:20.049000+00:00  2023-08-22  3.48\n",
       "3   2023-08-22 03:28:43.264000+00:00  2023-08-22  3.47\n",
       "4   2023-08-22 03:28:39.544000+00:00  2023-08-22  3.47\n",
       "..                               ...         ...   ...\n",
       "995 2023-08-10 05:06:01.702000+00:00  2023-08-10  5.10\n",
       "996 2023-08-10 05:05:43.019000+00:00  2023-08-10  5.08\n",
       "997 2023-08-10 05:05:39.109000+00:00  2023-08-10  5.08\n",
       "998 2023-08-10 05:05:36.577000+00:00  2023-08-10  5.08\n",
       "999 2023-08-10 05:05:17.988000+00:00  2023-08-10  5.08\n",
       "\n",
       "[1000 rows x 3 columns]"
      ]
     },
     "execution_count": 8,
     "metadata": {},
     "output_type": "execute_result"
    }
   ],
   "source": [
    "ts_df"
   ]
  },
  {
   "cell_type": "code",
   "execution_count": 12,
   "metadata": {},
   "outputs": [
    {
     "data": {
      "image/png": "[encoded data removed]",
      "text/plain": [
       "<Figure size 640x480 with 1 Axes>"
      ]
     },
     "metadata": {},
     "output_type": "display_data"
    }
   ],
   "source": [
    "import matplotlib.pyplot as plt\n",
    "\n",
    "plt.hist(ts_df.hour, bins=24)\n",
    "plt.title(f\"last 1000 messages, between {ts_df.date.min()} and {ts_df.date.max()}\")\n",
    "plt.show()"
   ]
  }
 ],
 "metadata": {
  "kernelspec": {
   "display_name": "Python 3",
   "language": "python",
   "name": "python3"
  },
  "language_info": {
   "codemirror_mode": {
    "name": "ipython",
    "version": 3
   },
   "file_extension": ".py",
   "mimetype": "text/x-python",
   "name": "python",
   "nbconvert_exporter": "python",
   "pygments_lexer": "ipython3",
   "version": "3.10.5"
  },
  "orig_nbformat": 4
 },
 "nbformat": 4,
 "nbformat_minor": 2
}
