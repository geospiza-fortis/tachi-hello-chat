{
 "cells": [
  {
   "cell_type": "code",
   "execution_count": 1,
   "metadata": {},
   "outputs": [],
   "source": [
    "auth_token = \"...\""
   ]
  },
  {
   "cell_type": "code",
   "execution_count": 2,
   "metadata": {},
   "outputs": [],
   "source": [
    "import requests\n",
    "import pandas as pd\n",
    "\n",
    "def get_search(offset, auth_token):\n",
    "    headers = {\"authorization\": auth_token}\n",
    "    url = (\n",
    "        \"https://discord.com/api/v9/guilds/349436576037732353\"\n",
    "        \"/messages/search\"\n",
    "        \"?author_id=730758759743225908\"\n",
    "        \"&include_nsfw=true\"\n",
    "        f\"&offset={offset}\"\n",
    "    )\n",
    "    return requests.get(url, headers=headers)\n",
    "\n",
    "res = get_search(0, auth_token).json()"
   ]
  },
  {
   "cell_type": "code",
   "execution_count": 4,
   "metadata": {},
   "outputs": [
    {
     "name": "stderr",
     "output_type": "stream",
     "text": [
      "  0%|          | 0/40 [00:00<?, ?it/s]"
     ]
    },
    {
     "name": "stderr",
     "output_type": "stream",
     "text": [
      "100%|██████████| 40/40 [00:41<00:00,  1.03s/it]"
     ]
    },
    {
     "name": "stdout",
     "output_type": "stream",
     "text": [
      "995\n"
     ]
    },
    {
     "name": "stderr",
     "output_type": "stream",
     "text": [
      "\n"
     ]
    }
   ],
   "source": [
    "from tqdm import tqdm\n",
    "import itertools\n",
    "import time\n",
    "\n",
    "messages = []\n",
    "for i in tqdm(range(40)):\n",
    "    offset = i * 25\n",
    "    search = get_search(offset, auth_token)\n",
    "    messages += list(itertools.chain.from_iterable(search.json()['messages']))\n",
    "    time.sleep(0.5)\n",
    "print(len(messages))"
   ]
  },
  {
   "cell_type": "code",
   "execution_count": 5,
   "metadata": {},
   "outputs": [],
   "source": [
    "df = pd.DataFrame(messages)\n",
    "ts_df = df[[\"timestamp\"]].copy()\n",
    "ts_df[\"timestamp\"] = pd.to_datetime(ts_df[\"timestamp\"])\n",
    "ts_df[\"date\"] = ts_df[\"timestamp\"].dt.date\n",
    "ts_df[\"hour\"] = (ts_df[\"timestamp\"].dt.hour + ts_df[\"timestamp\"].dt.minute / 60).round(2)\n",
    "ts_df.to_csv(\"2023-08-24-curche.csv\", index=False)"
   ]
  },
  {
   "cell_type": "code",
   "execution_count": 6,
   "metadata": {},
   "outputs": [
    {
     "data": {
      "text/html": [
       "<div>\n",
       "<style scoped>\n",
       "    .dataframe tbody tr th:only-of-type {\n",
       "        vertical-align: middle;\n",
       "    }\n",
       "\n",
       "    .dataframe tbody tr th {\n",
       "        vertical-align: top;\n",
       "    }\n",
       "\n",
       "    .dataframe thead th {\n",
       "        text-align: right;\n",
       "    }\n",
       "</style>\n",
       "<table border=\"1\" class=\"dataframe\">\n",
       "  <thead>\n",
       "    <tr style=\"text-align: right;\">\n",
       "      <th></th>\n",
       "      <th>timestamp</th>\n",
       "      <th>date</th>\n",
       "      <th>hour</th>\n",
       "    </tr>\n",
       "  </thead>\n",
       "  <tbody>\n",
       "    <tr>\n",
       "      <th>0</th>\n",
       "      <td>2023-08-24 05:14:17.339000+00:00</td>\n",
       "      <td>2023-08-24</td>\n",
       "      <td>5.23</td>\n",
       "    </tr>\n",
       "    <tr>\n",
       "      <th>1</th>\n",
       "      <td>2023-08-24 05:13:16.670000+00:00</td>\n",
       "      <td>2023-08-24</td>\n",
       "      <td>5.22</td>\n",
       "    </tr>\n",
       "    <tr>\n",
       "      <th>2</th>\n",
       "      <td>2023-08-24 04:41:54.526000+00:00</td>\n",
       "      <td>2023-08-24</td>\n",
       "      <td>4.68</td>\n",
       "    </tr>\n",
       "    <tr>\n",
       "      <th>3</th>\n",
       "      <td>2023-08-24 02:54:06.333000+00:00</td>\n",
       "      <td>2023-08-24</td>\n",
       "      <td>2.90</td>\n",
       "    </tr>\n",
       "    <tr>\n",
       "      <th>4</th>\n",
       "      <td>2023-08-24 02:53:59.885000+00:00</td>\n",
       "      <td>2023-08-24</td>\n",
       "      <td>2.88</td>\n",
       "    </tr>\n",
       "    <tr>\n",
       "      <th>...</th>\n",
       "      <td>...</td>\n",
       "      <td>...</td>\n",
       "      <td>...</td>\n",
       "    </tr>\n",
       "    <tr>\n",
       "      <th>990</th>\n",
       "      <td>2023-08-18 01:52:33.036000+00:00</td>\n",
       "      <td>2023-08-18</td>\n",
       "      <td>1.87</td>\n",
       "    </tr>\n",
       "    <tr>\n",
       "      <th>991</th>\n",
       "      <td>2023-08-18 01:51:59.204000+00:00</td>\n",
       "      <td>2023-08-18</td>\n",
       "      <td>1.85</td>\n",
       "    </tr>\n",
       "    <tr>\n",
       "      <th>992</th>\n",
       "      <td>2023-08-18 01:51:35.348000+00:00</td>\n",
       "      <td>2023-08-18</td>\n",
       "      <td>1.85</td>\n",
       "    </tr>\n",
       "    <tr>\n",
       "      <th>993</th>\n",
       "      <td>2023-08-18 01:51:15.103000+00:00</td>\n",
       "      <td>2023-08-18</td>\n",
       "      <td>1.85</td>\n",
       "    </tr>\n",
       "    <tr>\n",
       "      <th>994</th>\n",
       "      <td>2023-08-18 01:51:06.441000+00:00</td>\n",
       "      <td>2023-08-18</td>\n",
       "      <td>1.85</td>\n",
       "    </tr>\n",
       "  </tbody>\n",
       "</table>\n",
       "<p>995 rows × 3 columns</p>\n",
       "</div>"
      ],
      "text/plain": [
       "                           timestamp        date  hour\n",
       "0   2023-08-24 05:14:17.339000+00:00  2023-08-24  5.23\n",
       "1   2023-08-24 05:13:16.670000+00:00  2023-08-24  5.22\n",
       "2   2023-08-24 04:41:54.526000+00:00  2023-08-24  4.68\n",
       "3   2023-08-24 02:54:06.333000+00:00  2023-08-24  2.90\n",
       "4   2023-08-24 02:53:59.885000+00:00  2023-08-24  2.88\n",
       "..                               ...         ...   ...\n",
       "990 2023-08-18 01:52:33.036000+00:00  2023-08-18  1.87\n",
       "991 2023-08-18 01:51:59.204000+00:00  2023-08-18  1.85\n",
       "992 2023-08-18 01:51:35.348000+00:00  2023-08-18  1.85\n",
       "993 2023-08-18 01:51:15.103000+00:00  2023-08-18  1.85\n",
       "994 2023-08-18 01:51:06.441000+00:00  2023-08-18  1.85\n",
       "\n",
       "[995 rows x 3 columns]"
      ]
     },
     "execution_count": 6,
     "metadata": {},
     "output_type": "execute_result"
    }
   ],
   "source": [
    "ts_df"
   ]
  },
  {
   "cell_type": "code",
   "execution_count": 11,
   "metadata": {},
   "outputs": [
    {
     "data": {
      "image/png": "[encoded data removed]",
      "text/plain": [
       "<Figure size 640x480 with 1 Axes>"
      ]
     },
     "metadata": {},
     "output_type": "display_data"
    }
   ],
   "source": [
    "import matplotlib.pyplot as plt\n",
    "\n",
    "plt.hist((ts_df.hour - 5) % 24, bins=24)\n",
    "plt.title(f\"curche, last 1000 messages, between {ts_df.date.min()} and {ts_df.date.max()}\")\n",
    "plt.xlim(0, 24)\n",
    "plt.xlabel(\"hour (CDT)\")\n",
    "plt.ylabel(\"messages\")\n",
    "plt.show()"
   ]
  }
 ],
 "metadata": {
  "kernelspec": {
   "display_name": "Python 3",
   "language": "python",
   "name": "python3"
  },
  "language_info": {
   "codemirror_mode": {
    "name": "ipython",
    "version": 3
   },
   "file_extension": ".py",
   "mimetype": "text/x-python",
   "name": "python",
   "nbconvert_exporter": "python",
   "pygments_lexer": "ipython3",
   "version": "3.10.5"
  },
  "orig_nbformat": 4
 },
 "nbformat": 4,
 "nbformat_minor": 2
}
